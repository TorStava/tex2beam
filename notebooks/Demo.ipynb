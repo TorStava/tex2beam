{
 "cells": [
  {
   "cell_type": "markdown",
   "metadata": {},
   "source": [
    "# DEMO - Automatic Generation of Presentations from Academic Reports"
   ]
  },
  {
   "cell_type": "markdown",
   "metadata": {},
   "source": [
    "Import libraries"
   ]
  },
  {
   "cell_type": "code",
   "execution_count": null,
   "metadata": {},
   "outputs": [],
   "source": [
    "%reload_ext autoreload\n",
    "%autoreload 2\n",
    "\n",
    "import arxiv\n",
    "import os\n",
    "import subprocess\n",
    "\n",
    "from dotenv import load_dotenv\n",
    "\n",
    "from tex2beam.main import generate_presentation\n",
    "from tex2beam.utils import extract_archive, folder_walker, determine_main_tex_file\n",
    "\n",
    "load_dotenv()"
   ]
  },
  {
   "cell_type": "markdown",
   "metadata": {},
   "source": [
    "## Settings"
   ]
  },
  {
   "cell_type": "markdown",
   "metadata": {},
   "source": [
    "### arXiv report source\n",
    "Find the report arXiv number at [arXiv](https://arxiv.org/) and insert in the cell below."
   ]
  },
  {
   "cell_type": "code",
   "execution_count": null,
   "metadata": {},
   "outputs": [],
   "source": [
    "arxiv_doc_id = \"2406.09143\""
   ]
  },
  {
   "cell_type": "markdown",
   "metadata": {},
   "source": [
    "### Number of slides for the generated presentation\n",
    "Set the number of slides wanted. A title slide will be added."
   ]
  },
  {
   "cell_type": "code",
   "execution_count": null,
   "metadata": {},
   "outputs": [],
   "source": [
    "n_slides = 9"
   ]
  },
  {
   "cell_type": "markdown",
   "metadata": {},
   "source": [
    "### Generation method\n",
    "Specify the wanted generation method.  \n",
    "Available methods are: `baseline`, `rag`, `two-step`, and `rag-two-step`"
   ]
  },
  {
   "cell_type": "code",
   "execution_count": null,
   "metadata": {},
   "outputs": [],
   "source": [
    "method = 'rag'"
   ]
  },
  {
   "cell_type": "markdown",
   "metadata": {},
   "source": [
    "### Download the source files from arXiv\n",
    "\n",
    "Run the cell below to download the source file from arXiv (assuming it exists)."
   ]
  },
  {
   "cell_type": "code",
   "execution_count": null,
   "metadata": {},
   "outputs": [],
   "source": [
    "# 1. Create tmp folder\n",
    "tmp_path = \".tmp\"\n",
    "if not os.path.exists(tmp_path):\n",
    "    os.makedirs(tmp_path)\n",
    "\n",
    "# 2. Download source .gz file from arXiv\n",
    "print(\"Downloading report.\")\n",
    "paper = next(arxiv.Client().results(arxiv.Search(id_list=[arxiv_doc_id])))\n",
    "filename=f\"{arxiv_doc_id}.tar.gz\"\n",
    "paper.download_source(dirpath=tmp_path, filename=filename)\n",
    "\n",
    "# 3. Unpack archive\n",
    "print(\"Extracting report.\")\n",
    "unpack_path = os.path.join(tmp_path, arxiv_doc_id)\n",
    "extract_archive(\n",
    "    filepath=os.path.join(tmp_path, filename),\n",
    "    destination=unpack_path\n",
    ")\n",
    "print(\"Done\")"
   ]
  },
  {
   "cell_type": "markdown",
   "metadata": {},
   "source": [
    "### Generate presentation using OpenAI ChatGPT\n",
    "Generate the presentation and output in $\\LaTeX$ Beamer format.  "
   ]
  },
  {
   "cell_type": "code",
   "execution_count": null,
   "metadata": {},
   "outputs": [],
   "source": [
    "# 4. Determine main .tex file\n",
    "main_tex_file = determine_main_tex_file(folder_walker(unpack_path, return_files=True))\n",
    "\n",
    "# 5. Generate presentation\n",
    "print(\"Generating presentation. Please wait...\")\n",
    "presentation_path = os.path.join(os.path.dirname(main_tex_file), arxiv_doc_id + '-presentation.tex')\n",
    "presentation = generate_presentation(\n",
    "    report_path = main_tex_file,\n",
    "    api_key = os.environ.get(\"OPENAI_API_KEY\"),\n",
    "    method = method,  # options: \"baseline\", \"rag\", \"two-step\", \"rag-two-step\"\n",
    "    output_path = presentation_path,\n",
    "    n_slides = n_slides\n",
    ")\n",
    "print(\"Done\")"
   ]
  },
  {
   "cell_type": "markdown",
   "metadata": {},
   "source": [
    "### Compile $\\LaTeX$ presentation to PDF\n",
    "\n",
    "Note that this requires a local $\\LaTeX$ compiler installed on the system, e.g. [TexLive](https://tug.org/texlive/).\n"
   ]
  },
  {
   "cell_type": "code",
   "execution_count": null,
   "metadata": {},
   "outputs": [],
   "source": [
    "# 6. Compile LaTex Beamer presentation into PDF\n",
    "print(\"Compiling presentation.\")\n",
    "!latexmk -pdf -quiet -outdir={os.path.dirname(main_tex_file)} {presentation_path}\n",
    "print(\"Done.\")"
   ]
  },
  {
   "cell_type": "markdown",
   "metadata": {},
   "source": [
    "Note that the code below assumes that this notebook is running in Windows Subsystem for Linux (WSL), using the `wslpath` command to get the full path to the generated PDF presentation."
   ]
  },
  {
   "cell_type": "code",
   "execution_count": null,
   "metadata": {},
   "outputs": [],
   "source": [
    "pdf_path = !wslpath -w {presentation_path.replace('.tex', '.pdf')}\n",
    "subprocess.call('cmd.exe /C start'.split() + [pdf_path[0]])"
   ]
  }
 ],
 "metadata": {
  "kernelspec": {
   "display_name": "py311",
   "language": "python",
   "name": "python3"
  },
  "language_info": {
   "codemirror_mode": {
    "name": "ipython",
    "version": 3
   },
   "file_extension": ".py",
   "mimetype": "text/x-python",
   "name": "python",
   "nbconvert_exporter": "python",
   "pygments_lexer": "ipython3",
   "version": "3.1.-1"
  }
 },
 "nbformat": 4,
 "nbformat_minor": 2
}
